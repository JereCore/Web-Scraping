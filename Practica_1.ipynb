{
 "cells": [
  {
   "cell_type": "code",
   "execution_count": 1,
   "metadata": {},
   "outputs": [],
   "source": [
    "import requests\n",
    "import lxml.html as html\n",
    "import pandas as pd\n",
    "\n",
    "from collections import defaultdict"
   ]
  },
  {
   "cell_type": "code",
   "execution_count": 2,
   "metadata": {},
   "outputs": [],
   "source": [
    "url_padre = \"https://books.toscrape.com/index.html\"\n",
    "root_url = \"https://books.toscrape.com/\""
   ]
  },
  {
   "cell_type": "markdown",
   "metadata": {},
   "source": [
    "#### __EXPRESIONES XPATH__"
   ]
  },
  {
   "cell_type": "code",
   "execution_count": 4,
   "metadata": {},
   "outputs": [],
   "source": [
    "#Obteniendo links de categorias de libros\n",
    "links_categoria = '//ul[@class=\"nav nav-list\"]/li//ul/li/a/@href' \n",
    "\n",
    "#Obteniendo titulos de libros\n",
    "titulo = '//article/h3/a/text()'\n",
    "\n",
    "#Obteniendo el precio de cada libros\n",
    "precio =  '//div[@class=\"product_price\"]/p[@class=\"price_color\"]/text()'\n",
    "\n",
    "#Obteniendo Categoria\n",
    "categoria = '//div[@class=\"page-header action\"]/h1/text()'"
   ]
  },
  {
   "cell_type": "code",
   "execution_count": 5,
   "metadata": {},
   "outputs": [
    {
     "name": "stdout",
     "output_type": "stream",
     "text": [
      "200\n"
     ]
    }
   ],
   "source": [
    "#requests\n",
    "r = requests.get(url_padre)\n",
    "print(r.status_code)"
   ]
  },
  {
   "cell_type": "markdown",
   "metadata": {},
   "source": [
    "#### __RESPUESTA HTTP__\n",
    "\n",
    "* Respuestas informativas (100–199),  \n",
    "* Respuestas satisfactorias (200–299),  \n",
    "* Redirecciones (300–399),  \n",
    "* Errores de los clientes (400–499),  \n",
    "* y errores de los servidores (500–599).  "
   ]
  },
  {
   "cell_type": "code",
   "execution_count": 6,
   "metadata": {},
   "outputs": [],
   "source": [
    "#requests\n",
    "\n",
    "r = requests.get(url_padre)\n",
    "\n",
    "home = r.content.decode(\"utf-8\")\n",
    "\n",
    "parser = html.fromstring(home)\n",
    "\n",
    "categorias_url = parser.xpath(links_categoria)\n",
    "\n",
    "categorias_url = [root_url + x for x in categorias_url] #Lambda\n"
   ]
  },
  {
   "cell_type": "code",
   "execution_count": 7,
   "metadata": {},
   "outputs": [
    {
     "data": {
      "text/plain": [
       "['https://books.toscrape.com/catalogue/category/books/travel_2/index.html',\n",
       " 'https://books.toscrape.com/catalogue/category/books/mystery_3/index.html',\n",
       " 'https://books.toscrape.com/catalogue/category/books/historical-fiction_4/index.html',\n",
       " 'https://books.toscrape.com/catalogue/category/books/sequential-art_5/index.html',\n",
       " 'https://books.toscrape.com/catalogue/category/books/classics_6/index.html',\n",
       " 'https://books.toscrape.com/catalogue/category/books/philosophy_7/index.html',\n",
       " 'https://books.toscrape.com/catalogue/category/books/romance_8/index.html',\n",
       " 'https://books.toscrape.com/catalogue/category/books/womens-fiction_9/index.html',\n",
       " 'https://books.toscrape.com/catalogue/category/books/fiction_10/index.html',\n",
       " 'https://books.toscrape.com/catalogue/category/books/childrens_11/index.html',\n",
       " 'https://books.toscrape.com/catalogue/category/books/religion_12/index.html',\n",
       " 'https://books.toscrape.com/catalogue/category/books/nonfiction_13/index.html',\n",
       " 'https://books.toscrape.com/catalogue/category/books/music_14/index.html',\n",
       " 'https://books.toscrape.com/catalogue/category/books/default_15/index.html',\n",
       " 'https://books.toscrape.com/catalogue/category/books/science-fiction_16/index.html',\n",
       " 'https://books.toscrape.com/catalogue/category/books/sports-and-games_17/index.html',\n",
       " 'https://books.toscrape.com/catalogue/category/books/add-a-comment_18/index.html',\n",
       " 'https://books.toscrape.com/catalogue/category/books/fantasy_19/index.html',\n",
       " 'https://books.toscrape.com/catalogue/category/books/new-adult_20/index.html',\n",
       " 'https://books.toscrape.com/catalogue/category/books/young-adult_21/index.html',\n",
       " 'https://books.toscrape.com/catalogue/category/books/science_22/index.html',\n",
       " 'https://books.toscrape.com/catalogue/category/books/poetry_23/index.html',\n",
       " 'https://books.toscrape.com/catalogue/category/books/paranormal_24/index.html',\n",
       " 'https://books.toscrape.com/catalogue/category/books/art_25/index.html',\n",
       " 'https://books.toscrape.com/catalogue/category/books/psychology_26/index.html',\n",
       " 'https://books.toscrape.com/catalogue/category/books/autobiography_27/index.html',\n",
       " 'https://books.toscrape.com/catalogue/category/books/parenting_28/index.html',\n",
       " 'https://books.toscrape.com/catalogue/category/books/adult-fiction_29/index.html',\n",
       " 'https://books.toscrape.com/catalogue/category/books/humor_30/index.html',\n",
       " 'https://books.toscrape.com/catalogue/category/books/horror_31/index.html',\n",
       " 'https://books.toscrape.com/catalogue/category/books/history_32/index.html',\n",
       " 'https://books.toscrape.com/catalogue/category/books/food-and-drink_33/index.html',\n",
       " 'https://books.toscrape.com/catalogue/category/books/christian-fiction_34/index.html',\n",
       " 'https://books.toscrape.com/catalogue/category/books/business_35/index.html',\n",
       " 'https://books.toscrape.com/catalogue/category/books/biography_36/index.html',\n",
       " 'https://books.toscrape.com/catalogue/category/books/thriller_37/index.html',\n",
       " 'https://books.toscrape.com/catalogue/category/books/contemporary_38/index.html',\n",
       " 'https://books.toscrape.com/catalogue/category/books/spirituality_39/index.html',\n",
       " 'https://books.toscrape.com/catalogue/category/books/academic_40/index.html',\n",
       " 'https://books.toscrape.com/catalogue/category/books/self-help_41/index.html',\n",
       " 'https://books.toscrape.com/catalogue/category/books/historical_42/index.html',\n",
       " 'https://books.toscrape.com/catalogue/category/books/christian_43/index.html',\n",
       " 'https://books.toscrape.com/catalogue/category/books/suspense_44/index.html',\n",
       " 'https://books.toscrape.com/catalogue/category/books/short-stories_45/index.html',\n",
       " 'https://books.toscrape.com/catalogue/category/books/novels_46/index.html',\n",
       " 'https://books.toscrape.com/catalogue/category/books/health_47/index.html',\n",
       " 'https://books.toscrape.com/catalogue/category/books/politics_48/index.html',\n",
       " 'https://books.toscrape.com/catalogue/category/books/cultural_49/index.html',\n",
       " 'https://books.toscrape.com/catalogue/category/books/erotica_50/index.html',\n",
       " 'https://books.toscrape.com/catalogue/category/books/crime_51/index.html']"
      ]
     },
     "execution_count": 7,
     "metadata": {},
     "output_type": "execute_result"
    }
   ],
   "source": [
    "categorias_url"
   ]
  },
  {
   "cell_type": "code",
   "execution_count": 26,
   "metadata": {},
   "outputs": [],
   "source": [
    "#requests titulos\n",
    "\n",
    "r = requests.get(categorias_url[0])\n",
    "\n",
    "home = r.content.decode(\"utf-8\")\n",
    "\n",
    "parser = html.fromstring(home)\n",
    "\n",
    "titulos_libro = parser.xpath(titulo)\n",
    "\n",
    "precio_libro = parser.xpath(precio)"
   ]
  },
  {
   "cell_type": "markdown",
   "metadata": {},
   "source": [
    "# GENERAR FUNCIONES SCRAPPING"
   ]
  },
  {
   "cell_type": "code",
   "execution_count": 9,
   "metadata": {},
   "outputs": [],
   "source": [
    "def geturls(url_padre): \n",
    "    root_url = \"https://books.toscrape.com/\"\n",
    "    links_categoria = '//ul[@class=\"nav nav-list\"]/li//ul/li/a/@href' \n",
    "    r = requests.get(url_padre)\n",
    "    home = r.content.decode(\"utf-8\")\n",
    "    parser = html.fromstring(home)\n",
    "    categorias_url = parser.xpath(links_categoria)\n",
    "    categorias_url = [root_url + x for x in categorias_url]\n",
    "\n",
    "    return categorias_url\n"
   ]
  },
  {
   "cell_type": "code",
   "execution_count": 103,
   "metadata": {},
   "outputs": [],
   "source": [
    "def parser_content(url): \n",
    "    content_dic = {}\n",
    "    r = requests.get(url)\n",
    "    home = r.content.decode(\"utf-8\")\n",
    "    parser = html.fromstring(home)   \n",
    "\n",
    "    if r.status_code == 200:\n",
    "        \n",
    "        #OBTENIENDO TITULOS Y PRECIO\n",
    "        \n",
    "        titulo = '//article/h3/a/text()'\n",
    "        titulos_libro = parser.xpath(titulo)\n",
    "        content_dic['Titulo Libro'] = titulos_libro\n",
    "\n",
    "        precios = '//div[@class=\"product_price\"]/p[@class=\"price_color\"]/text()'\n",
    "        precios_libro = parser.xpath(precios)\n",
    "        content_dic['Precio Libro'] = precios_libro\n",
    "\n",
    "        categorias = '//div[@class=\"page-header action\"]/h1/text()'\n",
    "        categorias_libro = parser.xpath(categorias)\n",
    "\n",
    "    list_categoria = []\n",
    "    for j in range(len(content_dic['Titulo Libro'])):\n",
    "        \n",
    "        list_categoria.append(categorias_libro)\n",
    "\n",
    "    content_dic['Categoria Libro'] = []\n",
    "    content_dic.update({\"Categoria Libro\": list_categoria})\n",
    "\n",
    "    return content_dic \n"
   ]
  },
  {
   "cell_type": "code",
   "execution_count": 86,
   "metadata": {},
   "outputs": [],
   "source": [
    "links_entregar = geturls(url_padre)"
   ]
  },
  {
   "cell_type": "code",
   "execution_count": 104,
   "metadata": {},
   "outputs": [
    {
     "data": {
      "text/plain": [
       "{'Titulo Libro': [\"It's Only the Himalayas\",\n",
       "  'Full Moon over Noah’s ...',\n",
       "  'See America: A Celebration ...',\n",
       "  'Vagabonding: An Uncommon Guide ...',\n",
       "  'Under the Tuscan Sun',\n",
       "  'A Summer In Europe',\n",
       "  'The Great Railway Bazaar',\n",
       "  'A Year in Provence ...',\n",
       "  'The Road to Little ...',\n",
       "  'Neither Here nor There: ...',\n",
       "  '1,000 Places to See ...'],\n",
       " 'Precio Libro': ['£45.17',\n",
       "  '£49.43',\n",
       "  '£48.87',\n",
       "  '£36.94',\n",
       "  '£37.33',\n",
       "  '£44.34',\n",
       "  '£30.54',\n",
       "  '£56.88',\n",
       "  '£23.21',\n",
       "  '£38.95',\n",
       "  '£26.08'],\n",
       " 'Categoria Libro': [['Travel'],\n",
       "  ['Travel'],\n",
       "  ['Travel'],\n",
       "  ['Travel'],\n",
       "  ['Travel'],\n",
       "  ['Travel'],\n",
       "  ['Travel'],\n",
       "  ['Travel'],\n",
       "  ['Travel'],\n",
       "  ['Travel'],\n",
       "  ['Travel']]}"
      ]
     },
     "execution_count": 104,
     "metadata": {},
     "output_type": "execute_result"
    }
   ],
   "source": [
    "#parser_content(\"https://books.toscrape.com/catalogue/category/books/travel_2/index.html\")"
   ]
  },
  {
   "cell_type": "code",
   "execution_count": 105,
   "metadata": {},
   "outputs": [
    {
     "name": "stdout",
     "output_type": "stream",
     "text": [
      "Se esta scrapeando la pag num 0\n",
      "Se esta scrapeando la pag num 1\n",
      "Se esta scrapeando la pag num 2\n",
      "Se esta scrapeando la pag num 3\n",
      "Se esta scrapeando la pag num 4\n",
      "Se esta scrapeando la pag num 5\n",
      "Se esta scrapeando la pag num 6\n",
      "Se esta scrapeando la pag num 7\n",
      "Se esta scrapeando la pag num 8\n",
      "Se esta scrapeando la pag num 9\n",
      "Se esta scrapeando la pag num 10\n",
      "Se esta scrapeando la pag num 11\n",
      "Se esta scrapeando la pag num 12\n",
      "Se esta scrapeando la pag num 13\n",
      "Se esta scrapeando la pag num 14\n",
      "Se esta scrapeando la pag num 15\n",
      "Se esta scrapeando la pag num 16\n",
      "Se esta scrapeando la pag num 17\n",
      "Se esta scrapeando la pag num 18\n",
      "Se esta scrapeando la pag num 19\n",
      "Se esta scrapeando la pag num 20\n",
      "Se esta scrapeando la pag num 21\n",
      "Se esta scrapeando la pag num 22\n",
      "Se esta scrapeando la pag num 23\n",
      "Se esta scrapeando la pag num 24\n",
      "Se esta scrapeando la pag num 25\n",
      "Se esta scrapeando la pag num 26\n",
      "Se esta scrapeando la pag num 27\n",
      "Se esta scrapeando la pag num 28\n",
      "Se esta scrapeando la pag num 29\n",
      "Se esta scrapeando la pag num 30\n",
      "Se esta scrapeando la pag num 31\n",
      "Se esta scrapeando la pag num 32\n",
      "Se esta scrapeando la pag num 33\n",
      "Se esta scrapeando la pag num 34\n",
      "Se esta scrapeando la pag num 35\n",
      "Se esta scrapeando la pag num 36\n",
      "Se esta scrapeando la pag num 37\n",
      "Se esta scrapeando la pag num 38\n",
      "Se esta scrapeando la pag num 39\n",
      "Se esta scrapeando la pag num 40\n",
      "Se esta scrapeando la pag num 41\n",
      "Se esta scrapeando la pag num 42\n",
      "Se esta scrapeando la pag num 43\n",
      "Se esta scrapeando la pag num 44\n",
      "Se esta scrapeando la pag num 45\n",
      "Se esta scrapeando la pag num 46\n",
      "Se esta scrapeando la pag num 47\n",
      "Se esta scrapeando la pag num 48\n",
      "Se esta scrapeando la pag num 49\n"
     ]
    }
   ],
   "source": [
    "data = []\n",
    "#for index,i in enumerate(links_entregar):\n",
    "for index,i in enumerate(links_entregar):\n",
    "    print(f'Se esta scrapeando la pag num {index}')\n",
    "    data.append(parser_content(i))"
   ]
  },
  {
   "cell_type": "markdown",
   "metadata": {},
   "source": [
    "## __GENERANDO DATAFRAME__"
   ]
  },
  {
   "cell_type": "code",
   "execution_count": 106,
   "metadata": {},
   "outputs": [],
   "source": [
    "df = pd.DataFrame()\n",
    "for j in data:\n",
    "    df_uno = pd.DataFrame(j)\n",
    "    df = pd.concat([df, df_uno])"
   ]
  },
  {
   "cell_type": "code",
   "execution_count": 107,
   "metadata": {},
   "outputs": [
    {
     "data": {
      "text/html": [
       "<div>\n",
       "<style scoped>\n",
       "    .dataframe tbody tr th:only-of-type {\n",
       "        vertical-align: middle;\n",
       "    }\n",
       "\n",
       "    .dataframe tbody tr th {\n",
       "        vertical-align: top;\n",
       "    }\n",
       "\n",
       "    .dataframe thead th {\n",
       "        text-align: right;\n",
       "    }\n",
       "</style>\n",
       "<table border=\"1\" class=\"dataframe\">\n",
       "  <thead>\n",
       "    <tr style=\"text-align: right;\">\n",
       "      <th></th>\n",
       "      <th>Titulo Libro</th>\n",
       "      <th>Precio Libro</th>\n",
       "      <th>Categoria Libro</th>\n",
       "    </tr>\n",
       "  </thead>\n",
       "  <tbody>\n",
       "    <tr>\n",
       "      <th>0</th>\n",
       "      <td>It's Only the Himalayas</td>\n",
       "      <td>£45.17</td>\n",
       "      <td>[Travel]</td>\n",
       "    </tr>\n",
       "    <tr>\n",
       "      <th>1</th>\n",
       "      <td>Full Moon over Noah’s ...</td>\n",
       "      <td>£49.43</td>\n",
       "      <td>[Travel]</td>\n",
       "    </tr>\n",
       "    <tr>\n",
       "      <th>2</th>\n",
       "      <td>See America: A Celebration ...</td>\n",
       "      <td>£48.87</td>\n",
       "      <td>[Travel]</td>\n",
       "    </tr>\n",
       "    <tr>\n",
       "      <th>3</th>\n",
       "      <td>Vagabonding: An Uncommon Guide ...</td>\n",
       "      <td>£36.94</td>\n",
       "      <td>[Travel]</td>\n",
       "    </tr>\n",
       "    <tr>\n",
       "      <th>4</th>\n",
       "      <td>Under the Tuscan Sun</td>\n",
       "      <td>£37.33</td>\n",
       "      <td>[Travel]</td>\n",
       "    </tr>\n",
       "    <tr>\n",
       "      <th>...</th>\n",
       "      <td>...</td>\n",
       "      <td>...</td>\n",
       "      <td>...</td>\n",
       "    </tr>\n",
       "    <tr>\n",
       "      <th>1</th>\n",
       "      <td>Why the Right Went ...</td>\n",
       "      <td>£52.65</td>\n",
       "      <td>[Politics]</td>\n",
       "    </tr>\n",
       "    <tr>\n",
       "      <th>2</th>\n",
       "      <td>Equal Is Unfair: America's ...</td>\n",
       "      <td>£56.86</td>\n",
       "      <td>[Politics]</td>\n",
       "    </tr>\n",
       "    <tr>\n",
       "      <th>0</th>\n",
       "      <td>Amid the Chaos</td>\n",
       "      <td>£36.58</td>\n",
       "      <td>[Cultural]</td>\n",
       "    </tr>\n",
       "    <tr>\n",
       "      <th>0</th>\n",
       "      <td>Dark Notes</td>\n",
       "      <td>£19.19</td>\n",
       "      <td>[Erotica]</td>\n",
       "    </tr>\n",
       "    <tr>\n",
       "      <th>0</th>\n",
       "      <td>The Long Shadow of ...</td>\n",
       "      <td>£10.97</td>\n",
       "      <td>[Crime]</td>\n",
       "    </tr>\n",
       "  </tbody>\n",
       "</table>\n",
       "<p>517 rows × 3 columns</p>\n",
       "</div>"
      ],
      "text/plain": [
       "                          Titulo Libro Precio Libro Categoria Libro\n",
       "0              It's Only the Himalayas       £45.17        [Travel]\n",
       "1            Full Moon over Noah’s ...       £49.43        [Travel]\n",
       "2       See America: A Celebration ...       £48.87        [Travel]\n",
       "3   Vagabonding: An Uncommon Guide ...       £36.94        [Travel]\n",
       "4                 Under the Tuscan Sun       £37.33        [Travel]\n",
       "..                                 ...          ...             ...\n",
       "1               Why the Right Went ...       £52.65      [Politics]\n",
       "2       Equal Is Unfair: America's ...       £56.86      [Politics]\n",
       "0                       Amid the Chaos       £36.58      [Cultural]\n",
       "0                           Dark Notes       £19.19       [Erotica]\n",
       "0               The Long Shadow of ...       £10.97         [Crime]\n",
       "\n",
       "[517 rows x 3 columns]"
      ]
     },
     "execution_count": 107,
     "metadata": {},
     "output_type": "execute_result"
    }
   ],
   "source": [
    "df"
   ]
  }
 ],
 "metadata": {
  "interpreter": {
   "hash": "7b4b4feff2f24a0f0a34464dbe537a36fda679851528fb8735cb41fa49dffb2d"
  },
  "kernelspec": {
   "display_name": "Python 3.8.3 ('base')",
   "language": "python",
   "name": "python3"
  },
  "language_info": {
   "codemirror_mode": {
    "name": "ipython",
    "version": 3
   },
   "file_extension": ".py",
   "mimetype": "text/x-python",
   "name": "python",
   "nbconvert_exporter": "python",
   "pygments_lexer": "ipython3",
   "version": "3.8.8"
  },
  "orig_nbformat": 4
 },
 "nbformat": 4,
 "nbformat_minor": 2
}
